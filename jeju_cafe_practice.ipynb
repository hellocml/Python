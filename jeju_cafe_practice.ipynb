{
  "nbformat": 4,
  "nbformat_minor": 0,
  "metadata": {
    "colab": {
      "provenance": [],
      "mount_file_id": "1y9eJ_LVBF_I5OYoXuMGlUTIgpr8ASEKP",
      "authorship_tag": "ABX9TyPnvivISi4j175Xm49S7c32",
      "include_colab_link": true
    },
    "kernelspec": {
      "name": "python3",
      "display_name": "Python 3"
    },
    "language_info": {
      "name": "python"
    }
  },
  "cells": [
    {
      "cell_type": "markdown",
      "metadata": {
        "id": "view-in-github",
        "colab_type": "text"
      },
      "source": [
        "<a href=\"https://colab.research.google.com/github/hellocml/Python/blob/main/jeju_cafe_practice.ipynb\" target=\"_parent\"><img src=\"https://colab.research.google.com/assets/colab-badge.svg\" alt=\"Open In Colab\"/></a>"
      ]
    },
    {
      "cell_type": "markdown",
      "source": [
        "제주 카페 분포 그리기\n",
        "\n",
        "[제주카페데이터 다운로드](https://github.com/hellocml/Python/blob/main/cafe.csv)\n",
        "\n",
        "출처: 공공데이터포털"
      ],
      "metadata": {
        "id": "L__85N945Xt1"
      }
    },
    {
      "cell_type": "markdown",
      "source": [
        "## 1. 필요한 라이브러리 불러오기"
      ],
      "metadata": {
        "id": "gT5IkXc1E18g"
      }
    },
    {
      "cell_type": "code",
      "execution_count": null,
      "metadata": {
        "id": "4EJDunho5OYJ"
      },
      "outputs": [],
      "source": [
        "import pandas as pd\n",
        "import numpy as np\n",
        "import seaborn as sns\n",
        "\n",
        "%matplotlib inline"
      ]
    },
    {
      "cell_type": "markdown",
      "source": [
        "## 2. 시각화를 위한 폰트 설정"
      ],
      "metadata": {
        "id": "cUu9QsctE1Yq"
      }
    },
    {
      "cell_type": "code",
      "source": [
        "# 한글폰트 사용을 위해 설치\n",
        "# 아래 모듈을 설치하고 불러오면 별도의 한글폰트 설정이 필요 없습니다.\n",
        "!pip install koreanize-matplotlib\n",
        "\n",
        "import koreanize_matplotlib"
      ],
      "metadata": {
        "id": "snzgj92a5mdB"
      },
      "execution_count": null,
      "outputs": []
    },
    {
      "cell_type": "code",
      "source": [
        "# 1. 한글 폰트 설치 (Colab 전용)\n",
        "!apt-get update -qq\n",
        "!apt-get install -y fonts-nanum\n",
        "\n",
        "# 2. matplotlib 설정\n",
        "import matplotlib.pyplot as plt\n",
        "import matplotlib.font_manager as fm\n",
        "import matplotlib as mpl\n",
        "from IPython.display import set_matplotlib_formats\n",
        "\n",
        "# 한글 폰트 적용\n",
        "mpl.rc('font', family='NanumGothic')\n",
        "mpl.rcParams['axes.unicode_minus'] = False  # 음수 깨짐 방지\n",
        "\n",
        "# 디스플레이 설정 (Retina)\n",
        "set_matplotlib_formats('retina')  # Retina 디스플레이용\n",
        "%matplotlib inline\n"
      ],
      "metadata": {
        "id": "UchM3De_7Jl6"
      },
      "execution_count": null,
      "outputs": []
    },
    {
      "cell_type": "markdown",
      "source": [
        "##3. 데이터 로드하기"
      ],
      "metadata": {
        "id": "3dh4nSb1FIe2"
      }
    },
    {
      "cell_type": "code",
      "source": [
        "url = \"https://raw.githubusercontent.com/hellocml/Python/main/cafe.csv\"\n",
        "df = pd.read_csv(url)"
      ],
      "metadata": {
        "id": "0epdH4aYUwyB"
      },
      "execution_count": null,
      "outputs": []
    },
    {
      "cell_type": "code",
      "source": [
        "df.shape"
      ],
      "metadata": {
        "id": "5t_Rbro654rP"
      },
      "execution_count": null,
      "outputs": []
    },
    {
      "cell_type": "markdown",
      "source": [
        "## 4. 데이터 미리보기"
      ],
      "metadata": {
        "id": "C06OTwu7FU40"
      }
    },
    {
      "cell_type": "code",
      "source": [
        "# head 로 데이터를 미리보기 합니다. (앞5행 미리보기)\n",
        "df.head()"
      ],
      "metadata": {
        "id": "N-YJVzBI6EHh"
      },
      "execution_count": null,
      "outputs": []
    },
    {
      "cell_type": "markdown",
      "source": [
        "## 5. 데이터 요약하기\n"
      ],
      "metadata": {
        "id": "S2q-3y3LFjtx"
      }
    },
    {
      "cell_type": "code",
      "source": [
        "# info로 데이터의 요약을 봅니다.\n",
        "df.info()"
      ],
      "metadata": {
        "id": "4ErVhcMo6LOf"
      },
      "execution_count": null,
      "outputs": []
    },
    {
      "cell_type": "markdown",
      "source": [
        "## 6. 그룹화된 요약값 보기 - value_counts"
      ],
      "metadata": {
        "id": "0WwLdigQF8Ye"
      }
    },
    {
      "cell_type": "code",
      "source": [
        "# 행정동별 카페수 세기\n",
        "df[\"행정동명\"].value_counts()"
      ],
      "metadata": {
        "id": "-H1NhhLL9kwB"
      },
      "execution_count": null,
      "outputs": []
    },
    {
      "cell_type": "code",
      "source": [
        "# 위에서 구한 결과를 판다스의 plot.bar()를 활용해 막대그래프로 그리기\n",
        "df[\"행정동명\"].value_counts().plot(kind='bar', figsize=(12, 6), width=0.5)"
      ],
      "metadata": {
        "id": "oGN0NxvJ9zhg"
      },
      "execution_count": null,
      "outputs": []
    },
    {
      "cell_type": "markdown",
      "source": [],
      "metadata": {
        "id": "ts9Nt3P-GIkr"
      }
    },
    {
      "cell_type": "code",
      "source": [
        "# seaborn 의 countplot 을 사용해서 위에서 만든 df_cafe 데이터프레임의 시군구명을 시각화\n",
        "plt.figure(figsize=(9, 6))\n",
        "sns.countplot(data=df, y=\"시군구명\")"
      ],
      "metadata": {
        "id": "zgKSEpja93Bf"
      },
      "execution_count": null,
      "outputs": []
    },
    {
      "cell_type": "code",
      "source": [
        "df[\"시군구명\"].value_counts().plot.pie(figsize=(10, 10), autopct=\"%.1f%%\", ylabel='')\n"
      ],
      "metadata": {
        "id": "pIAo4kNlGwgj"
      },
      "execution_count": null,
      "outputs": []
    },
    {
      "cell_type": "markdown",
      "source": [
        "## 7. 제주 카페 분포 보기"
      ],
      "metadata": {
        "id": "pcs49S_XG-fj"
      }
    },
    {
      "cell_type": "code",
      "source": [
        "!pip install folium\n",
        "import folium"
      ],
      "metadata": {
        "id": "j5Qfkj5Uf0VT"
      },
      "execution_count": 1,
      "outputs": []
    },
    {
      "cell_type": "code",
      "source": [
        "# Pandas 의 plot.scatter 를 통해 경도와 위도를 표시해 봅니다.\n",
        "df[[\"경도\", \"위도\", \"시군구명\"]].plot.scatter(\n",
        "    x=\"경도\", y=\"위도\", figsize=(9, 7), grid=True)"
      ],
      "metadata": {
        "id": "g_XqouC4-kac"
      },
      "execution_count": null,
      "outputs": []
    },
    {
      "cell_type": "code",
      "source": [
        "# seaborn의 scatterplot 을 통해 구별 경도와 위도를 표시하기(pandas와 달리 시군구명 별로 다른 컬러 표기 가능)\n",
        "plt.figure(figsize=(16, 12))\n",
        "sns.scatterplot(data=df,\n",
        "                x='경도', y='위도', hue='시군구명')"
      ],
      "metadata": {
        "id": "3Po3jIlL-oSu"
      },
      "execution_count": null,
      "outputs": []
    },
    {
      "cell_type": "code",
      "source": [
        "# geo_df 에 df_cafe를 copy() 로 복사\n",
        "geo_df = df.copy()"
      ],
      "metadata": {
        "id": "FJQvEcsk_Zvh"
      },
      "execution_count": null,
      "outputs": []
    },
    {
      "cell_type": "code",
      "source": [
        "# 지도의 중심을 지정하기 위해 위도와 경도의 평균을 구하기\n",
        "fmap = folium.Map(location=[geo_df['위도'].mean(), geo_df['경도'].mean()],\n",
        "                 zoom_start=12)\n",
        "\n",
        "for n in geo_df.index:\n",
        "    # 팝업에 들어갈 텍스트를 지정\n",
        "    # 상호명과 주소를 붙여서 출력\n",
        "    popup_name = geo_df.loc[n, '상호명'] + ' - ' + geo_df.loc[n, '도로명주소']\n",
        "\n",
        "    folium.Marker(\n",
        "        location=[geo_df.loc[n,'위도'], geo_df.loc[n, '경도']],\n",
        "        popup=popup_name,\n",
        "        tooltip=popup_name\n",
        "    ).add_to(fmap)\n",
        "\n",
        "\n",
        "fmap"
      ],
      "metadata": {
        "id": "lAtFrwGS_gy5"
      },
      "execution_count": null,
      "outputs": []
    }
  ]
}