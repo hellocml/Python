{
  "nbformat": 4,
  "nbformat_minor": 0,
  "metadata": {
    "colab": {
      "provenance": [],
      "mount_file_id": "1y9eJ_LVBF_I5OYoXuMGlUTIgpr8ASEKP",
      "authorship_tag": "ABX9TyPN1dkHrph8TVTmBOlsZMP+",
      "include_colab_link": true
    },
    "kernelspec": {
      "name": "python3",
      "display_name": "Python 3"
    },
    "language_info": {
      "name": "python"
    }
  },
  "cells": [
    {
      "cell_type": "markdown",
      "metadata": {
        "id": "view-in-github",
        "colab_type": "text"
      },
      "source": [
        "<a href=\"https://colab.research.google.com/github/hellocml/Python/blob/main/jeju_cafe_practice.ipynb\" target=\"_parent\"><img src=\"https://colab.research.google.com/assets/colab-badge.svg\" alt=\"Open In Colab\"/></a>"
      ]
    },
    {
      "cell_type": "markdown",
      "source": [
        "제주 카페 분포 그리기\n",
        "\n",
        "[제주카페데이터 다운로드](https://github.com/hellocml/Python/blob/main/cafe.csv)\n",
        "\n",
        "출처: 공공데이터포털"
      ],
      "metadata": {
        "id": "L__85N945Xt1"
      }
    },
    {
      "cell_type": "markdown",
      "source": [
        "## 1. 필요한 라이브러리 불러오기\n",
        "\n",
        "### 라이브러리(Library)는 우리가 코딩할 때 자주 쓰는 기능들을 미리 모아 놓은 도구 상자\n",
        "### 라이브러리는 누군가가 만들어둔 똑똑한 코드 꾸러미를 우리가 import해서 쉽게 쓸 수 있음\n",
        "---\n",
        "\n"
      ],
      "metadata": {
        "id": "gT5IkXc1E18g"
      }
    },
    {
      "cell_type": "code",
      "execution_count": null,
      "metadata": {
        "id": "4EJDunho5OYJ"
      },
      "outputs": [],
      "source": [
        "import pandas as pd    # 표 형태의 데이터를 다루는 도구\n",
        "import numpy as np     # numpy는 숫자계산을 도와주는 도구(계산기 역할)\n",
        "import seaborn as sns  # seaborn은 통계 시각화 도구\n",
        "\n",
        "%matplotlib inline     # 그래프를 코드 아래에 바로 출력되게 해주는 역할"
      ]
    },
    {
      "cell_type": "markdown",
      "source": [
        "## 2. 시각화를 위한 폰트 설정\n",
        "\n",
        "### (한글이 보이게 도와주는 준비 작업)\n",
        "\n",
        "### 보통 컴퓨터에서는 영어가 잘 나오지만, 그래프 그릴때 한글이 깨지거나 안나올수 있음\n",
        "### 특히 Google Colab은 인터넷에서 작동하는 서비스라 처음에는 한글 폰트가 설치되어 있지 않음\n"
      ],
      "metadata": {
        "id": "cUu9QsctE1Yq"
      }
    },
    {
      "cell_type": "code",
      "source": [
        "# 한글폰트 사용을 위해 설치\n",
        "!pip install koreanize-matplotlib\n",
        "\n",
        "import koreanize_matplotlib"
      ],
      "metadata": {
        "id": "snzgj92a5mdB"
      },
      "execution_count": null,
      "outputs": []
    },
    {
      "cell_type": "code",
      "source": [
        "# 1. 한글 폰트 설치 (Colab 전용)\n",
        "!apt-get update -qq\n",
        "!apt-get install -y fonts-nanum\n",
        "\n",
        "# 2. matplotlib 설정\n",
        "import matplotlib.pyplot as plt\n",
        "import matplotlib.font_manager as fm\n",
        "import matplotlib as mpl\n",
        "from IPython.display import set_matplotlib_formats\n",
        "\n",
        "# 한글 폰트 적용\n",
        "mpl.rc('font', family='NanumGothic')\n",
        "mpl.rcParams['axes.unicode_minus'] = False  # 음수 깨짐 방지\n",
        "\n",
        "# 디스플레이 설정 (Retina)\n",
        "set_matplotlib_formats('retina')  # Retina 디스플레이용\n",
        "%matplotlib inline\n"
      ],
      "metadata": {
        "id": "UchM3De_7Jl6"
      },
      "execution_count": null,
      "outputs": []
    },
    {
      "cell_type": "markdown",
      "source": [
        "##3. 데이터 로드하기\n",
        "\n",
        "### 제주 카페 정보를 엑셀처럼 표로 불러오기"
      ],
      "metadata": {
        "id": "3dh4nSb1FIe2"
      }
    },
    {
      "cell_type": "code",
      "source": [
        "url = \"https://raw.githubusercontent.com/hellocml/Python/main/cafe.csv\"    #  파일이 저장된 인터넷 주소(URL)\n",
        "df = pd.read_csv(url)   #url에 있는 파일을 읽어서 df라는 이름의 데이터표(데이터프레임)로 저장"
      ],
      "metadata": {
        "id": "0epdH4aYUwyB"
      },
      "execution_count": null,
      "outputs": []
    },
    {
      "cell_type": "code",
      "source": [
        "df.shape   # 행, 열 형"
      ],
      "metadata": {
        "id": "5t_Rbro654rP"
      },
      "execution_count": null,
      "outputs": []
    },
    {
      "cell_type": "markdown",
      "source": [
        "## 4. 데이터 미리보기\n",
        "\n",
        "### 제주 카페 정보 파일을 불러온 후, 이 데이터안에 무엇이 있는지 보기"
      ],
      "metadata": {
        "id": "C06OTwu7FU40"
      }
    },
    {
      "cell_type": "code",
      "source": [
        "# head 로 데이터를 미리보기. (앞5행 미리보기)\n",
        "df.head()"
      ],
      "metadata": {
        "id": "N-YJVzBI6EHh"
      },
      "execution_count": null,
      "outputs": []
    },
    {
      "cell_type": "markdown",
      "source": [
        "## 5. 데이터 요약하기\n"
      ],
      "metadata": {
        "id": "S2q-3y3LFjtx"
      }
    },
    {
      "cell_type": "code",
      "source": [
        "# info로 데이터의 요약을 보기\n",
        "df.info()"
      ],
      "metadata": {
        "id": "4ErVhcMo6LOf"
      },
      "execution_count": null,
      "outputs": []
    },
    {
      "cell_type": "markdown",
      "source": [
        "## 6. 그룹화된 요약값 보기 - value_counts\n",
        "\n",
        "### 어느 지역에 카페가 가장 많을가? (행정동별, 시군구별)"
      ],
      "metadata": {
        "id": "0WwLdigQF8Ye"
      }
    },
    {
      "cell_type": "code",
      "source": [
        "# 행정동별 카페수 세기\n",
        "df[\"행정동명\"].value_counts()"
      ],
      "metadata": {
        "id": "-H1NhhLL9kwB"
      },
      "execution_count": null,
      "outputs": []
    },
    {
      "cell_type": "code",
      "source": [
        "# 위에서 구한 결과를 판다스의 plot.bar()를 활용해 막대그래프로 그리기\n",
        "df[\"행정동명\"].value_counts().plot(kind='bar', figsize=(12, 6), width=0.5)"
      ],
      "metadata": {
        "id": "oGN0NxvJ9zhg"
      },
      "execution_count": null,
      "outputs": []
    },
    {
      "cell_type": "markdown",
      "source": [],
      "metadata": {
        "id": "ts9Nt3P-GIkr"
      }
    },
    {
      "cell_type": "code",
      "source": [
        "# seaborn 의 countplot 을 사용해서 위에서 만든 df_cafe 데이터프레임의 시군구명을 시각화\n",
        "plt.figure(figsize=(9, 6))\n",
        "sns.countplot(data=df, y=\"시군구명\")"
      ],
      "metadata": {
        "id": "zgKSEpja93Bf"
      },
      "execution_count": null,
      "outputs": []
    },
    {
      "cell_type": "code",
      "source": [
        "df[\"시군구명\"].value_counts().plot.pie(figsize=(10, 10), autopct=\"%.1f%%\", ylabel='')\n"
      ],
      "metadata": {
        "id": "pIAo4kNlGwgj"
      },
      "execution_count": null,
      "outputs": []
    },
    {
      "cell_type": "markdown",
      "source": [
        "## 7. 제주 카페 분포 보기\n",
        "\n",
        "### 제주 카페 데이터를 지도에 표시\n",
        "### 지도 위에 데이터(예: 위치, 경로, 밀도 등)를 시각적으로 표현"
      ],
      "metadata": {
        "id": "pcs49S_XG-fj"
      }
    },
    {
      "cell_type": "code",
      "source": [
        "!pip install folium  # folium은 지도 시각화 라이브러\n",
        "import folium"
      ],
      "metadata": {
        "id": "j5Qfkj5Uf0VT"
      },
      "execution_count": null,
      "outputs": []
    },
    {
      "cell_type": "code",
      "source": [
        "# Pandas 의 plot.scatter 를 통해 경도와 위도를 표시해 봅니다.\n",
        "df[[\"경도\", \"위도\", \"시군구명\"]].plot.scatter(\n",
        "    x=\"경도\", y=\"위도\", figsize=(9, 7), grid=True)"
      ],
      "metadata": {
        "id": "g_XqouC4-kac"
      },
      "execution_count": null,
      "outputs": []
    },
    {
      "cell_type": "code",
      "source": [
        "# seaborn의 scatterplot 을 통해 구별 경도와 위도를 표시하기(pandas와 달리 시군구명 별로 다른 컬러 표기 가능)\n",
        "plt.figure(figsize=(16, 12))\n",
        "sns.scatterplot(data=df,\n",
        "                x='경도', y='위도', hue='시군구명')"
      ],
      "metadata": {
        "id": "3Po3jIlL-oSu"
      },
      "execution_count": null,
      "outputs": []
    },
    {
      "cell_type": "code",
      "source": [
        "# geo_df 에 df_cafe를 copy() 로 복사\n",
        "geo_df = df.copy()"
      ],
      "metadata": {
        "id": "FJQvEcsk_Zvh"
      },
      "execution_count": null,
      "outputs": []
    },
    {
      "cell_type": "code",
      "source": [
        "# 지도의 중심을 지정하기 위해 위도와 경도의 평균을 구하기\n",
        "fmap = folium.Map(location=[geo_df['위도'].mean(), geo_df['경도'].mean()],\n",
        "                 zoom_start=12)\n",
        "\n",
        "for n in geo_df.index:\n",
        "    # 팝업에 들어갈 텍스트를 지정\n",
        "    # 상호명과 주소를 붙여서 출력\n",
        "    popup_name = geo_df.loc[n, '상호명'] + ' - ' + geo_df.loc[n, '도로명주소']\n",
        "\n",
        "    folium.Marker(\n",
        "        location=[geo_df.loc[n,'위도'], geo_df.loc[n, '경도']],\n",
        "        popup=popup_name,\n",
        "        tooltip=popup_name\n",
        "    ).add_to(fmap)\n",
        "\n",
        "\n",
        "fmap"
      ],
      "metadata": {
        "id": "lAtFrwGS_gy5"
      },
      "execution_count": null,
      "outputs": []
    }
  ]
}